{
 "cells": [
  {
   "cell_type": "markdown",
   "metadata": {},
   "source": [
    "### Import libraries"
   ]
  },
  {
   "cell_type": "code",
   "execution_count": 1,
   "metadata": {},
   "outputs": [],
   "source": [
    "import numpy as np\n",
    "import pandas as pd\n",
    "from matplotlib import pyplot as plt\n",
    "import matplotlib\n",
    "import glob\n",
    "\n",
    "font = {'weight' : 'normal',\n",
    "        'size'   : 12}\n",
    "\n",
    "matplotlib.rc('font', **font)\n"
   ]
  },
  {
   "cell_type": "markdown",
   "metadata": {},
   "source": [
    "### Load csv data"
   ]
  },
  {
   "cell_type": "code",
   "execution_count": 24,
   "metadata": {},
   "outputs": [
    {
     "data": {
      "text/html": [
       "<div>\n",
       "<style scoped>\n",
       "    .dataframe tbody tr th:only-of-type {\n",
       "        vertical-align: middle;\n",
       "    }\n",
       "\n",
       "    .dataframe tbody tr th {\n",
       "        vertical-align: top;\n",
       "    }\n",
       "\n",
       "    .dataframe thead th {\n",
       "        text-align: right;\n",
       "    }\n",
       "</style>\n",
       "<table border=\"1\" class=\"dataframe\">\n",
       "  <thead>\n",
       "    <tr style=\"text-align: right;\">\n",
       "      <th></th>\n",
       "      <th>fold0</th>\n",
       "      <th>fold1</th>\n",
       "      <th>fold2</th>\n",
       "      <th>fold3</th>\n",
       "      <th>fold4</th>\n",
       "    </tr>\n",
       "    <tr>\n",
       "      <th>Model</th>\n",
       "      <th></th>\n",
       "      <th></th>\n",
       "      <th></th>\n",
       "      <th></th>\n",
       "      <th></th>\n",
       "    </tr>\n",
       "  </thead>\n",
       "  <tbody>\n",
       "    <tr>\n",
       "      <th>TLmutation</th>\n",
       "      <td>0.465307</td>\n",
       "      <td>0.517556</td>\n",
       "      <td>0.497439</td>\n",
       "      <td>0.412672</td>\n",
       "      <td>0.531892</td>\n",
       "    </tr>\n",
       "    <tr>\n",
       "      <th>EVmutation</th>\n",
       "      <td>0.392562</td>\n",
       "      <td>0.350682</td>\n",
       "      <td>0.423618</td>\n",
       "      <td>0.265620</td>\n",
       "      <td>0.431599</td>\n",
       "    </tr>\n",
       "    <tr>\n",
       "      <th>Envision</th>\n",
       "      <td>0.436864</td>\n",
       "      <td>0.398394</td>\n",
       "      <td>0.426245</td>\n",
       "      <td>0.267260</td>\n",
       "      <td>0.475465</td>\n",
       "    </tr>\n",
       "    <tr>\n",
       "      <th>SNAP2</th>\n",
       "      <td>-0.380802</td>\n",
       "      <td>-0.293282</td>\n",
       "      <td>-0.361819</td>\n",
       "      <td>-0.211113</td>\n",
       "      <td>-0.407493</td>\n",
       "    </tr>\n",
       "    <tr>\n",
       "      <th>DeepSequence</th>\n",
       "      <td>0.403539</td>\n",
       "      <td>0.327145</td>\n",
       "      <td>0.426889</td>\n",
       "      <td>0.217158</td>\n",
       "      <td>0.426144</td>\n",
       "    </tr>\n",
       "  </tbody>\n",
       "</table>\n",
       "</div>"
      ],
      "text/plain": [
       "                 fold0     fold1     fold2     fold3     fold4\n",
       "Model                                                         \n",
       "TLmutation    0.465307  0.517556  0.497439  0.412672  0.531892\n",
       "EVmutation    0.392562  0.350682  0.423618  0.265620  0.431599\n",
       "Envision      0.436864  0.398394  0.426245  0.267260  0.475465\n",
       "SNAP2        -0.380802 -0.293282 -0.361819 -0.211113 -0.407493\n",
       "DeepSequence  0.403539  0.327145  0.426889  0.217158  0.426144"
      ]
     },
     "execution_count": 24,
     "metadata": {},
     "output_type": "execute_result"
    }
   ],
   "source": [
    "spearmans = pd.read_csv(\"Figure1B-single-mutation-spearmans.csv\", index_col=0)\n",
    "spearmans"
   ]
  },
  {
   "cell_type": "markdown",
   "metadata": {},
   "source": [
    "### Calculate average and std"
   ]
  },
  {
   "cell_type": "code",
   "execution_count": 40,
   "metadata": {},
   "outputs": [],
   "source": [
    "plot_ave_spear = []\n",
    "plot_std_spear = []\n",
    "\n",
    "for model in spearmans.index:\n",
    "    ave_spear = np.abs(np.average(spearmans[spearmans.index == model].values))\n",
    "    std_spear = np.abs(np.std(spearmans[spearmans.index == model].values))\n",
    "    \n",
    "    plot_ave_spear.append(ave_spear)\n",
    "    plot_std_spear.append(std_spear)\n",
    "    "
   ]
  },
  {
   "cell_type": "markdown",
   "metadata": {},
   "source": [
    "### Plot"
   ]
  },
  {
   "cell_type": "code",
   "execution_count": 47,
   "metadata": {},
   "outputs": [
    {
     "data": {
      "image/png": "[encoded data removed]",
      "text/plain": [
       "<Figure size 432x288 with 1 Axes>"
      ]
     },
     "metadata": {
      "needs_background": "light"
     },
     "output_type": "display_data"
    },
    {
     "name": "stdout",
     "output_type": "stream",
     "text": [
      "TL: Spearman's rho: 0.485 +/- 0.043\n",
      "EV: Spearman's rho: 0.373 +/- 0.061\n",
      "Envision: Spearman's rho: 0.401 +/- 0.071\n",
      "SNAP2: Spearman's rho: 0.331 +/- 0.071\n",
      "DeepSeq: Spearman's rho: 0.360 +/- 0.080\n"
     ]
    }
   ],
   "source": [
    "color = ['dodgerblue', 'springgreen', 'violet', 'orange', 'yellow']\n",
    "list = ['TL', 'EV', 'Envision', 'SNAP2', 'DeepSeq']\n",
    "\n",
    "plt.bar([1,2,3,4,5], plot_ave_spear, yerr=plot_std_spear, align='center', capsize=5, color=color, edgecolor='k')\n",
    "\n",
    "plt.grid(linestyle=\":\")\n",
    "\n",
    "plt.ylabel('abs(spearmans_rho)')\n",
    "plt.xticks([1,2,3,4,5], list)\n",
    "\n",
    "plt.ylim(top=0.6)\n",
    "\n",
    "plt.show()\n",
    "\n",
    "for i in range(len(list)):\n",
    "    print(f\"{list[i]}: Spearman's rho: {plot_ave_spear[i]:.3f} +/- {plot_std_spear[i]:.3f}\")"
   ]
  },
  {
   "cell_type": "code",
   "execution_count": null,
   "metadata": {},
   "outputs": [],
   "source": []
  },
  {
   "cell_type": "markdown",
   "metadata": {},
   "source": [
    "### Null hypothesis testing"
   ]
  },
  {
   "cell_type": "markdown",
   "metadata": {},
   "source": [
    "Null hypothesis: There is no difference between randomly labelled and correctly labelled data in terms of the model prediction accuracy\n",
    "\n",
    "Alternate hypothesis: Correctly labelled is better than randomly labelled "
   ]
  },
  {
   "cell_type": "code",
   "execution_count": null,
   "metadata": {},
   "outputs": [],
   "source": []
  }
 ],
 "metadata": {
  "kernelspec": {
   "display_name": "Python 3",
   "language": "python",
   "name": "python3"
  },
  "language_info": {
   "codemirror_mode": {
    "name": "ipython",
    "version": 3
   },
   "file_extension": ".py",
   "mimetype": "text/x-python",
   "name": "python",
   "nbconvert_exporter": "python",
   "pygments_lexer": "ipython3",
   "version": "3.8.8"
  }
 },
 "nbformat": 4,
 "nbformat_minor": 2
}
